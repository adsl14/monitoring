{
  "nbformat": 4,
  "nbformat_minor": 0,
  "metadata": {
    "colab": {
      "name": "train_csv-example.ipynb",
      "provenance": [],
      "collapsed_sections": []
    },
    "kernelspec": {
      "name": "python3",
      "display_name": "Python 3"
    },
    "accelerator": "GPU"
  },
  "cells": [
    {
      "cell_type": "code",
      "metadata": {
        "id": "CC5_T4yvem96",
        "colab_type": "code",
        "colab": {}
      },
      "source": [
        "from google.colab import auth, drive\n",
        "\n",
        "auth.authenticate_user()"
      ],
      "execution_count": 0,
      "outputs": []
    },
    {
      "cell_type": "code",
      "metadata": {
        "id": "evcUG83CfJLn",
        "colab_type": "code",
        "colab": {}
      },
      "source": [
        "!earthengine authenticate"
      ],
      "execution_count": 0,
      "outputs": []
    },
    {
      "cell_type": "code",
      "metadata": {
        "id": "i3nS1YsKe2ar",
        "colab_type": "code",
        "colab": {}
      },
      "source": [
        "# Import the Earth Engine API and initialize it.\n",
        "import ee\n",
        "import time\n",
        "import os\n",
        "import random as rn\n",
        "import pandas as pd\n",
        "import matplotlib.pyplot as plt\n",
        "from pprint import pprint\n",
        "import numpy as np\n",
        "import shutil\n",
        "from sklearn.model_selection import train_test_split\n",
        "\n",
        "%tensorflow_version 1.x\n",
        "import tensorflow as tf\n",
        "\n",
        "# Fijar semillas para reproducibilidad de resultados (antes de importar Keras)\n",
        "seed = 42\n",
        "os.environ['PYTHONHASHSEED'] = str(seed)\n",
        "np.random.seed(seed)\n",
        "rn.seed(seed)\n",
        "tf.set_random_seed(seed)\n",
        "\n",
        "import keras\n",
        "from keras.optimizers import adam\n",
        "from keras.models import Model, Sequential\n",
        "from keras.layers import Dense, Dropout\n",
        "from keras.callbacks import EarlyStopping, ReduceLROnPlateau, ModelCheckpoint,TensorBoard\n",
        "\n",
        "# Montamos la unidad de trabajo de nuestro drive\n",
        "drive.mount('/content/drive/')\n",
        "\n",
        "# Cambiamos la ruta de trabajo a nuestro drive\n",
        "os.chdir('/content/drive/My Drive/')\n",
        "\n",
        "ee.Initialize()"
      ],
      "execution_count": 0,
      "outputs": []
    },
    {
      "cell_type": "markdown",
      "metadata": {
        "id": "SkdugVz44wg2",
        "colab_type": "text"
      },
      "source": [
        "Funciones a utilizar"
      ]
    },
    {
      "cell_type": "code",
      "metadata": {
        "id": "fNpUN9IL4yVh",
        "colab_type": "code",
        "colab": {}
      },
      "source": [
        "# Cloud masking function.\n",
        "def maskL8sr(image):\n",
        "  cloudShadowBitMask = ee.Number(2).pow(3).int()\n",
        "  cloudsBitMask = ee.Number(2).pow(5).int()\n",
        "  qa = image.select('pixel_qa')\n",
        "  mask = qa.bitwiseAnd(cloudShadowBitMask).eq(0).And(\n",
        "    qa.bitwiseAnd(cloudsBitMask).eq(0))\n",
        "  return image.updateMask(mask).select(bands).divide(10000)\n",
        "\n",
        "def normalizedDifference(a, b):\n",
        "  \"\"\"Compute normalized difference of two inputs.\n",
        "\n",
        "  Compute (a - b) / (a + b).  If the denomenator is zero, add a small delta.  \n",
        "\n",
        "  Args:\n",
        "    a: an input tensor with shape=[1]\n",
        "    b: an input tensor with shape=[1]\n",
        "\n",
        "  Returns:\n",
        "    The normalized difference as a tensor.\n",
        "  \"\"\"\n",
        "  nd = (a - b) / (a + b)\n",
        "  nd_inf = (a - b) / (a + b + 0.000001)\n",
        "  return tf.where(tf.math.is_finite(nd), nd, nd_inf)\n",
        "\n",
        "# When the network has finished the training, all the generated models will be erased, unless the three best models.\n",
        "def cleanExperimentFolder(folderNameExperimentPath):\n",
        "\n",
        "  models = os.listdir(folderNameExperimentPath)\n",
        "  models.sort(reverse=True)\n",
        "\n",
        "  # We check if there is, at least, three min model saved\n",
        "  if len(models) > 3:\n",
        "    for i in range (3,len(models)):\n",
        "      model_path = os.path.join(folderNameExperimentPath,models[i])\n",
        "      os.remove(model_path)\n",
        "      print(\"Experiment %s removed\" %(model_path))\n",
        "  else:\n",
        "    print(\"Folder %s ignored\" %(folderNameExperimentPath))\n",
        "\n",
        "def plot_history(history):\n",
        "\n",
        "  plt.figure(figsize=(8, 5))\n",
        "  plt.xlabel('Epoch')\n",
        "  plt.ylabel('Loss')\n",
        "  plt.yscale('log')\n",
        "  plt.plot(history.epoch,np.array(history.history['loss']),label='categorical_crossentropy (training)')\n",
        "  plt.plot(history.epoch,np.array(history.history['val_loss']),label='categorical_crossentropy (validation)')\n",
        "  plt.legend()\n",
        "\n",
        "  max_y = max(max(np.array(history.history['loss'])), max(np.array(history.history['val_loss'])))"
      ],
      "execution_count": 0,
      "outputs": []
    },
    {
      "cell_type": "markdown",
      "metadata": {
        "id": "q4XRmEA0nXYY",
        "colab_type": "text"
      },
      "source": [
        "Ejemplo 1.1 - Preprocesar datos de Earth Engine y obtener las tablas en CSV."
      ]
    },
    {
      "cell_type": "code",
      "metadata": {
        "id": "YQ-Fo0j8nWBL",
        "colab_type": "code",
        "colab": {}
      },
      "source": [
        "# Use these bands for prediction.\n",
        "bands = ['B2', 'B3', 'B4', 'B5', 'B6', 'B7']\n",
        "label = 'landcover'\n",
        "\n",
        "# Use Landsat 8 surface reflectance data.\n",
        "l8sr = ee.ImageCollection('LANDSAT/LC08/C01/T1_SR')\n",
        "# The image input data is a 2018 cloud-masked median composite.\n",
        "image = l8sr.filterDate('2018-01-01', '2018-12-31').map(maskL8sr).median()\n",
        "\n",
        "# Change the following two lines to use your own training data.\n",
        "labels = ee.FeatureCollection('GOOGLE/EE/DEMOS/demo_landcover_labels')\n",
        "\n",
        "# Sample the image at the points and add a random column.\n",
        "sample = image.sampleRegions(collection=labels, properties=[label], scale=30).randomColumn()\n",
        "\n",
        "# Partition the sample approximately 70-30.\n",
        "training = sample.filter(ee.Filter.lt('random', 0.7))\n",
        "testing = sample.filter(ee.Filter.gte('random', 0.7))\n",
        "\n",
        "# Names for output files.\n",
        "trainFilePrefix = 'Training_demo'\n",
        "testFilePrefix = 'Testing_demo'\n",
        "fileNameSuffix = '.csv'\n",
        "\n",
        "# This is list of all the properties we want to export.\n",
        "featureNames = list(bands)\n",
        "featureNames.append(label)\n",
        "\n",
        "trainingTask = ee.batch.Export.table.toDrive(\n",
        "    collection=training,\n",
        "    folder='agricultura',\n",
        "    description='Training Export', \n",
        "    fileNamePrefix=trainFilePrefix, \n",
        "    fileFormat='CSV',\n",
        "    selectors=featureNames)\n",
        "\n",
        "testingTask = ee.batch.Export.table.toDrive(\n",
        "    collection=testing,\n",
        "    folder='agricultura',\n",
        "    description='Testing Export', \n",
        "    fileNamePrefix=testFilePrefix, \n",
        "    fileFormat='CSV',\n",
        "    selectors=featureNames)\n",
        "\n",
        "# Start the tasks.\n",
        "trainingTask.start()\n",
        "testingTask.start()\n",
        "\n",
        "# Poll the training task until it's done.\n",
        "while trainingTask.active():\n",
        "  print('Polling for task (id: {}).'.format(trainingTask.id))\n",
        "  time.sleep(30)\n",
        "print('Done with training export.')\n",
        "\n",
        "# Poll the testing task until it's done.\n",
        "while testingTask.active():\n",
        "  print('Polling for task (id: {}).'.format(testingTask.id))\n",
        "  time.sleep(30)\n",
        "print('Done with testing export.')"
      ],
      "execution_count": 0,
      "outputs": []
    },
    {
      "cell_type": "markdown",
      "metadata": {
        "id": "Ej8cOUUrt7D9",
        "colab_type": "text"
      },
      "source": [
        "Ejemplo 1.2 - Obtener el fichero csv y prepararlo para keras"
      ]
    },
    {
      "cell_type": "code",
      "metadata": {
        "id": "-Gp-OO3WuF5k",
        "colab_type": "code",
        "colab": {}
      },
      "source": [
        "# Get the csv tables from Google drive\n",
        "trainFilePath = 'agricultura/tables/' + trainFilePrefix + fileNameSuffix\n",
        "testFilePath = 'agricultura/tables/' + testFilePrefix + fileNameSuffix\n",
        "\n",
        "# Get the dataframes\n",
        "trainDataFrame = pd.read_csv(trainFilePath)\n",
        "print('csv for training loaded')\n",
        "testDataFrame = pd.read_csv(testFilePath)\n",
        "print('csv for testing loaded')\n",
        "\n",
        "# Get a numpy array of the dataframe\n",
        "train_n = trainDataFrame.to_numpy()\n",
        "test_n = testDataFrame.to_numpy()\n",
        "\n",
        "np.random.shuffle(train_n)\n",
        "np.random.shuffle(test_n)\n",
        "\n",
        "x_train = train_n[:,:-1]\n",
        "y_train = train_n[:,-1]\n",
        "\n",
        "x_test = test_n[:,:-1]\n",
        "y_test = test_n[:,-1]\n",
        "\n",
        "# Get the x_val and y_val\n",
        "x_train, x_val, y_train, y_val = train_test_split(x_train, y_train, test_size=0.2) # 80% train, 20% val\n",
        "\n",
        "# Number of features\n",
        "num_features_input = x_train.shape[1]\n",
        "num_classes = 3\n",
        "\n",
        "# convert class vectors to binary class matrices, and convert the inputs in a numpy array\n",
        "y_train = keras.utils.to_categorical(y_train, num_classes)\n",
        "y_val = keras.utils.to_categorical(y_val, num_classes)\n",
        "y_test = keras.utils.to_categorical(y_test, num_classes)"
      ],
      "execution_count": 0,
      "outputs": []
    },
    {
      "cell_type": "markdown",
      "metadata": {
        "id": "ljyI-jCOogvU",
        "colab_type": "text"
      },
      "source": [
        "Ejemplo 1.3 - Crear el modelo y empezar a entrenar"
      ]
    },
    {
      "cell_type": "code",
      "metadata": {
        "id": "0XJ_NCx-ojYs",
        "colab_type": "code",
        "colab": {
          "base_uri": "https://localhost:8080/",
          "height": 1000
        },
        "outputId": "6d03d388-ee1b-4499-dce8-f55111e7ffc0"
      },
      "source": [
        "# hyperparameters\n",
        "lr = 1e-03\n",
        "batch_size = 16\n",
        "epochs = 50\n",
        "shuffle = True\n",
        "percentageDropout = 0.2\n",
        "HiddenLayers = 2\n",
        "HiddenNeurons = [4,4]\n",
        "loss_function = 'categorical_crossentropy'\n",
        "metrics = 'accuracy'\n",
        "\n",
        "# Experiment folder and name\n",
        "nameExperimentsFolder = 'experiments'\n",
        "nameExperiment = 'land_classification'\n",
        "nameModel = 'lr|%.1e-bs|%d-drop|%.2f-hla|%d-hne|%s' % (lr,batch_size,percentageDropout,HiddennLayers,str(HiddenNeurons))\n",
        "fileExtension = '{epoch:02d}-{val_loss:.4f}.hdf5'\n",
        "\n",
        "# Create the folder of experiments where we will save the models\n",
        "#if not(os.path.exists(os.path.join('agricultura',nameExperimentsFolder,nameExperiment,nameModel))):\n",
        "#  os.makedirs(os.path.join('agricultura',nameExperimentsFolder,nameExperiment,nameModel))\n",
        "\n",
        "# Callback parameters\n",
        "monitor_stop = 'acc' # What the model will check in order to stop the training\n",
        "monitor_reduce_lr = 'loss' # What the model will check in order to change the learning rate\n",
        "min_delta = 1e-03 # Minimum change in the monitored quantity to qualify as an improvement\n",
        "patience_stop = 50 # Number of epochs with no improvement after which training will be stopped.\n",
        "patience_reduce_lr = 8 # Number of epochs with no improvement after which lr will be reduced.\n",
        "\n",
        "callbacks = []\n",
        "#callbacks.append(ModelCheckpoint(os.path.join('agricultura',nameExperimentsFolder,nameExperiment,nameModel,fileExtension),\n",
        "#                                 monitor='val_loss', save_best_only=True, mode='min', verbose=1))\n",
        "#callbacks.append(TensorBoard(log_dir=os.path.join('agricultura',nameExperimentsFolder,nameExperiment,nameModel, 'logs'), \n",
        "#                             write_graph=True))\n",
        "callbacks.append(EarlyStopping(monitor=monitor_stop, min_delta=min_delta, patience=patience_stop, verbose=1))\n",
        "callbacks.append(ReduceLROnPlateau(monitor=monitor_reduce_lr, factor=0.1, patience=patience_reduce_lr, min_lr=1e-08))\n",
        "\n",
        "# Create the model\n",
        "model = Sequential()\n",
        "model.add(Dense(64, activation=tf.nn.relu, input_dim=num_features_input))\n",
        "model.add(Dropout(percentageDropout))\n",
        "model.add(Dense(num_classes, activation='softmax'))\n",
        "\n",
        "# Show the neural net\n",
        "print(model.summary())\n",
        "\n",
        "# Compiling the neural network\n",
        "model.compile(\n",
        "    optimizer=adam(lr=lr), \n",
        "    loss='categorical_crossentropy', \n",
        "    metrics =['accuracy'])\n",
        "\n",
        "# Training the model\n",
        "history = model.fit(\n",
        "    x=x_train,\n",
        "    validation_data=(x_val,y_val),\n",
        "    y=y_train,\n",
        "    batch_size=batch_size, \n",
        "    epochs=epochs, \n",
        "    shuffle=shuffle,\n",
        "    callbacks=callbacks,\n",
        "    verbose=1)"
      ],
      "execution_count": 246,
      "outputs": [
        {
          "output_type": "stream",
          "text": [
            "Model: \"sequential_71\"\n",
            "_________________________________________________________________\n",
            "Layer (type)                 Output Shape              Param #   \n",
            "=================================================================\n",
            "dense_150 (Dense)            (None, 64)                448       \n",
            "_________________________________________________________________\n",
            "dropout_60 (Dropout)         (None, 64)                0         \n",
            "_________________________________________________________________\n",
            "dense_151 (Dense)            (None, 3)                 195       \n",
            "=================================================================\n",
            "Total params: 643\n",
            "Trainable params: 643\n",
            "Non-trainable params: 0\n",
            "_________________________________________________________________\n",
            "None\n",
            "Train on 59 samples, validate on 15 samples\n",
            "Epoch 1/50\n",
            "59/59 [==============================] - 5s 81ms/step - loss: 1.0949 - acc: 0.3390 - val_loss: 1.0945 - val_acc: 0.2667\n",
            "Epoch 2/50\n",
            "59/59 [==============================] - 0s 408us/step - loss: 1.0885 - acc: 0.5254 - val_loss: 1.0888 - val_acc: 0.6667\n",
            "Epoch 3/50\n",
            "59/59 [==============================] - 0s 489us/step - loss: 1.0823 - acc: 0.6102 - val_loss: 1.0831 - val_acc: 0.6667\n",
            "Epoch 4/50\n",
            "59/59 [==============================] - 0s 412us/step - loss: 1.0706 - acc: 0.6271 - val_loss: 1.0779 - val_acc: 0.6667\n",
            "Epoch 5/50\n",
            "59/59 [==============================] - 0s 419us/step - loss: 1.0639 - acc: 0.7119 - val_loss: 1.0729 - val_acc: 0.6667\n",
            "Epoch 6/50\n",
            "59/59 [==============================] - 0s 409us/step - loss: 1.0605 - acc: 0.7119 - val_loss: 1.0680 - val_acc: 0.6667\n",
            "Epoch 7/50\n",
            "59/59 [==============================] - 0s 434us/step - loss: 1.0570 - acc: 0.6949 - val_loss: 1.0635 - val_acc: 0.6667\n",
            "Epoch 8/50\n",
            "59/59 [==============================] - 0s 457us/step - loss: 1.0575 - acc: 0.6949 - val_loss: 1.0590 - val_acc: 0.6667\n",
            "Epoch 9/50\n",
            "59/59 [==============================] - 0s 448us/step - loss: 1.0394 - acc: 0.7119 - val_loss: 1.0541 - val_acc: 0.6667\n",
            "Epoch 10/50\n",
            "59/59 [==============================] - 0s 464us/step - loss: 1.0410 - acc: 0.7119 - val_loss: 1.0493 - val_acc: 0.6667\n",
            "Epoch 11/50\n",
            "59/59 [==============================] - 0s 669us/step - loss: 1.0366 - acc: 0.7119 - val_loss: 1.0441 - val_acc: 0.6667\n",
            "Epoch 12/50\n",
            "59/59 [==============================] - 0s 459us/step - loss: 1.0326 - acc: 0.7119 - val_loss: 1.0392 - val_acc: 0.6667\n",
            "Epoch 13/50\n",
            "59/59 [==============================] - 0s 495us/step - loss: 1.0188 - acc: 0.7119 - val_loss: 1.0339 - val_acc: 0.6667\n",
            "Epoch 14/50\n",
            "59/59 [==============================] - 0s 428us/step - loss: 1.0145 - acc: 0.7119 - val_loss: 1.0289 - val_acc: 0.6667\n",
            "Epoch 15/50\n",
            "59/59 [==============================] - 0s 484us/step - loss: 1.0169 - acc: 0.7119 - val_loss: 1.0235 - val_acc: 0.6667\n",
            "Epoch 16/50\n",
            "59/59 [==============================] - 0s 504us/step - loss: 1.0006 - acc: 0.7119 - val_loss: 1.0181 - val_acc: 0.6667\n",
            "Epoch 17/50\n",
            "59/59 [==============================] - 0s 510us/step - loss: 1.0050 - acc: 0.7288 - val_loss: 1.0123 - val_acc: 0.6667\n",
            "Epoch 18/50\n",
            "59/59 [==============================] - 0s 514us/step - loss: 0.9927 - acc: 0.7119 - val_loss: 1.0062 - val_acc: 0.6667\n",
            "Epoch 19/50\n",
            "59/59 [==============================] - 0s 520us/step - loss: 0.9800 - acc: 0.7119 - val_loss: 1.0001 - val_acc: 0.6667\n",
            "Epoch 20/50\n",
            "59/59 [==============================] - 0s 531us/step - loss: 0.9777 - acc: 0.7119 - val_loss: 0.9939 - val_acc: 0.6667\n",
            "Epoch 21/50\n",
            "59/59 [==============================] - 0s 533us/step - loss: 0.9650 - acc: 0.7119 - val_loss: 0.9875 - val_acc: 0.6667\n",
            "Epoch 22/50\n",
            "59/59 [==============================] - 0s 516us/step - loss: 0.9595 - acc: 0.7119 - val_loss: 0.9812 - val_acc: 0.6667\n",
            "Epoch 23/50\n",
            "59/59 [==============================] - 0s 477us/step - loss: 0.9489 - acc: 0.7119 - val_loss: 0.9744 - val_acc: 0.6667\n",
            "Epoch 24/50\n",
            "59/59 [==============================] - 0s 474us/step - loss: 0.9502 - acc: 0.7288 - val_loss: 0.9676 - val_acc: 0.6667\n",
            "Epoch 25/50\n",
            "59/59 [==============================] - 0s 477us/step - loss: 0.9348 - acc: 0.7288 - val_loss: 0.9606 - val_acc: 0.6667\n",
            "Epoch 26/50\n",
            "59/59 [==============================] - 0s 548us/step - loss: 0.9359 - acc: 0.7119 - val_loss: 0.9533 - val_acc: 0.6667\n",
            "Epoch 27/50\n",
            "59/59 [==============================] - 0s 521us/step - loss: 0.9264 - acc: 0.7119 - val_loss: 0.9464 - val_acc: 0.6667\n",
            "Epoch 28/50\n",
            "59/59 [==============================] - 0s 551us/step - loss: 0.9244 - acc: 0.7119 - val_loss: 0.9388 - val_acc: 0.6667\n",
            "Epoch 29/50\n",
            "59/59 [==============================] - 0s 510us/step - loss: 0.9174 - acc: 0.7288 - val_loss: 0.9318 - val_acc: 0.6667\n",
            "Epoch 30/50\n",
            "59/59 [==============================] - 0s 539us/step - loss: 0.9009 - acc: 0.7458 - val_loss: 0.9246 - val_acc: 0.6667\n",
            "Epoch 31/50\n",
            "59/59 [==============================] - 0s 459us/step - loss: 0.8954 - acc: 0.7288 - val_loss: 0.9170 - val_acc: 0.6667\n",
            "Epoch 32/50\n",
            "59/59 [==============================] - 0s 476us/step - loss: 0.8899 - acc: 0.7288 - val_loss: 0.9089 - val_acc: 0.7333\n",
            "Epoch 33/50\n",
            "59/59 [==============================] - 0s 458us/step - loss: 0.8780 - acc: 0.7288 - val_loss: 0.9011 - val_acc: 0.7333\n",
            "Epoch 34/50\n",
            "59/59 [==============================] - 0s 488us/step - loss: 0.8728 - acc: 0.7458 - val_loss: 0.8932 - val_acc: 0.7333\n",
            "Epoch 35/50\n",
            "59/59 [==============================] - 0s 513us/step - loss: 0.8733 - acc: 0.7288 - val_loss: 0.8861 - val_acc: 0.7333\n",
            "Epoch 36/50\n",
            "59/59 [==============================] - 0s 504us/step - loss: 0.8697 - acc: 0.7119 - val_loss: 0.8788 - val_acc: 0.7333\n",
            "Epoch 37/50\n",
            "59/59 [==============================] - 0s 511us/step - loss: 0.8567 - acc: 0.7797 - val_loss: 0.8703 - val_acc: 0.7333\n",
            "Epoch 38/50\n",
            "59/59 [==============================] - 0s 480us/step - loss: 0.8388 - acc: 0.7458 - val_loss: 0.8621 - val_acc: 0.7333\n",
            "Epoch 39/50\n",
            "59/59 [==============================] - 0s 499us/step - loss: 0.8401 - acc: 0.7966 - val_loss: 0.8532 - val_acc: 0.7333\n",
            "Epoch 40/50\n",
            "59/59 [==============================] - 0s 423us/step - loss: 0.8240 - acc: 0.7627 - val_loss: 0.8447 - val_acc: 0.7333\n",
            "Epoch 41/50\n",
            "59/59 [==============================] - 0s 613us/step - loss: 0.8157 - acc: 0.7458 - val_loss: 0.8363 - val_acc: 0.7333\n",
            "Epoch 42/50\n",
            "59/59 [==============================] - 0s 627us/step - loss: 0.8141 - acc: 0.7627 - val_loss: 0.8272 - val_acc: 0.7333\n",
            "Epoch 43/50\n",
            "59/59 [==============================] - 0s 462us/step - loss: 0.8023 - acc: 0.7966 - val_loss: 0.8190 - val_acc: 0.7333\n",
            "Epoch 44/50\n",
            "59/59 [==============================] - 0s 447us/step - loss: 0.7853 - acc: 0.8305 - val_loss: 0.8108 - val_acc: 0.7333\n",
            "Epoch 45/50\n",
            "59/59 [==============================] - 0s 448us/step - loss: 0.7809 - acc: 0.7966 - val_loss: 0.8023 - val_acc: 0.7333\n",
            "Epoch 46/50\n",
            "59/59 [==============================] - 0s 452us/step - loss: 0.7725 - acc: 0.8136 - val_loss: 0.7941 - val_acc: 0.7333\n",
            "Epoch 47/50\n",
            "59/59 [==============================] - 0s 457us/step - loss: 0.7574 - acc: 0.8136 - val_loss: 0.7851 - val_acc: 0.7333\n",
            "Epoch 48/50\n",
            "59/59 [==============================] - 0s 438us/step - loss: 0.7645 - acc: 0.8475 - val_loss: 0.7755 - val_acc: 0.7333\n",
            "Epoch 49/50\n",
            "59/59 [==============================] - 0s 420us/step - loss: 0.7434 - acc: 0.8305 - val_loss: 0.7658 - val_acc: 0.7333\n",
            "Epoch 50/50\n",
            "59/59 [==============================] - 0s 410us/step - loss: 0.7398 - acc: 0.8475 - val_loss: 0.7560 - val_acc: 0.7333\n"
          ],
          "name": "stdout"
        }
      ]
    },
    {
      "cell_type": "code",
      "metadata": {
        "id": "-Bupjrj45iOd",
        "colab_type": "code",
        "colab": {}
      },
      "source": [
        "# Clean the folder where the models are saved\n",
        "if os.path.exists(os.path.join('agricultura',nameExperimentsFolder,nameExperiment,nameModel)):\n",
        "  cleanExperimentFolder(os.path.join('agricultura',nameExperimentsFolder,nameExperiment,nameModel))"
      ],
      "execution_count": 0,
      "outputs": []
    },
    {
      "cell_type": "code",
      "metadata": {
        "id": "QOGJiJAog0TQ",
        "colab_type": "code",
        "colab": {
          "base_uri": "https://localhost:8080/",
          "height": 334
        },
        "outputId": "9deee6c6-2886-4d8e-ac53-9b99e718e7cc"
      },
      "source": [
        "plot_history(history)"
      ],
      "execution_count": 250,
      "outputs": [
        {
          "output_type": "display_data",
          "data": {
            "image/png": "[encoded data removed]",
            "text/plain": [
              "<Figure size 576x360 with 1 Axes>"
            ]
          },
          "metadata": {
            "tags": []
          }
        }
      ]
    },
    {
      "cell_type": "markdown",
      "metadata": {
        "id": "AHZwouQQIjel",
        "colab_type": "text"
      },
      "source": [
        "1.4 Evaluamos con los conjuntos de entrenamiento y de test"
      ]
    },
    {
      "cell_type": "code",
      "metadata": {
        "id": "QP3DyPFHzRB4",
        "colab_type": "code",
        "colab": {
          "base_uri": "https://localhost:8080/",
          "height": 121
        },
        "outputId": "767917b1-1390-4793-d02b-19657c79e58a"
      },
      "source": [
        "# Evaluate training data\n",
        "score = model.evaluate(x_train, y_train, verbose=0)\n",
        "print('Train loss:', score[0])\n",
        "print('Train accuracy:', score[1])\n",
        "\n",
        "# Evaluate val data\n",
        "score = model.evaluate(x_val, y_val, verbose=0)\n",
        "print('Val loss:', score[0])\n",
        "print('Val accuracy:', score[1])\n",
        "\n",
        "# Evaluate test data\n",
        "score = model.evaluate(x_test, y_test, verbose=0)\n",
        "print('Test loss:', score[0])\n",
        "print('Test accuracy:', score[1])"
      ],
      "execution_count": 228,
      "outputs": [
        {
          "output_type": "stream",
          "text": [
            "Train loss: 1.0107463658866236\n",
            "Train accuracy: 0.8813559382648791\n",
            "Val loss: 1.017487645149231\n",
            "Val accuracy: 0.7333333492279053\n",
            "Test loss: 1.0227235555648804\n",
            "Test accuracy: 0.7916666865348816\n"
          ],
          "name": "stdout"
        }
      ]
    },
    {
      "cell_type": "markdown",
      "metadata": {
        "id": "s-1j-chaIokF",
        "colab_type": "text"
      },
      "source": [
        "1.5 Mostramos las predicciones"
      ]
    },
    {
      "cell_type": "code",
      "metadata": {
        "id": "PGiceG3mFWBJ",
        "colab_type": "code",
        "colab": {
          "base_uri": "https://localhost:8080/",
          "height": 434
        },
        "outputId": "fec46c29-526c-48cf-9766-1f95a893e16f"
      },
      "source": [
        "labels = ['urban', 'vegetation', 'water']\n",
        "\n",
        "predictions = model.predict(x_test)\n",
        "\n",
        "for i in range(0,len(y_test)):\n",
        "  print(\"land %d - Real: %s - Predicted: %s\" % (i+1,labels[y_test[i].argmax()],labels[predictions[i].argmax()]))"
      ],
      "execution_count": 229,
      "outputs": [
        {
          "output_type": "stream",
          "text": [
            "land 1 - Real: vegetation - Predicted: vegetation\n",
            "land 2 - Real: vegetation - Predicted: vegetation\n",
            "land 3 - Real: urban - Predicted: urban\n",
            "land 4 - Real: urban - Predicted: urban\n",
            "land 5 - Real: water - Predicted: water\n",
            "land 6 - Real: water - Predicted: water\n",
            "land 7 - Real: vegetation - Predicted: urban\n",
            "land 8 - Real: urban - Predicted: urban\n",
            "land 9 - Real: vegetation - Predicted: vegetation\n",
            "land 10 - Real: urban - Predicted: urban\n",
            "land 11 - Real: vegetation - Predicted: urban\n",
            "land 12 - Real: water - Predicted: water\n",
            "land 13 - Real: urban - Predicted: urban\n",
            "land 14 - Real: vegetation - Predicted: vegetation\n",
            "land 15 - Real: water - Predicted: water\n",
            "land 16 - Real: vegetation - Predicted: urban\n",
            "land 17 - Real: vegetation - Predicted: urban\n",
            "land 18 - Real: water - Predicted: water\n",
            "land 19 - Real: water - Predicted: water\n",
            "land 20 - Real: vegetation - Predicted: vegetation\n",
            "land 21 - Real: urban - Predicted: urban\n",
            "land 22 - Real: urban - Predicted: urban\n",
            "land 23 - Real: urban - Predicted: urban\n",
            "land 24 - Real: vegetation - Predicted: urban\n"
          ],
          "name": "stdout"
        }
      ]
    }
  ]
}